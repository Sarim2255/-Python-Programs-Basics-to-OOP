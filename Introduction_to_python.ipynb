{
  "nbformat": 4,
  "nbformat_minor": 0,
  "metadata": {
    "colab": {
      "provenance": [],
      "authorship_tag": "ABX9TyPujjY8xS6nOdgyf7lB1e8o",
      "include_colab_link": true
    },
    "kernelspec": {
      "name": "python3",
      "display_name": "Python 3"
    },
    "language_info": {
      "name": "python"
    }
  },
  "cells": [
    {
      "cell_type": "markdown",
      "metadata": {
        "id": "view-in-github",
        "colab_type": "text"
      },
      "source": [
        "<a href=\"https://colab.research.google.com/github/Sarim2255/-Python-Programs-Basics-to-OOP/blob/main/Introduction_to_python.ipynb\" target=\"_parent\"><img src=\"https://colab.research.google.com/assets/colab-badge.svg\" alt=\"Open In Colab\"/></a>"
      ]
    },
    {
      "cell_type": "code",
      "execution_count": 1,
      "metadata": {
        "id": "3J9RgXpORMkN"
      },
      "outputs": [],
      "source": [
        "'''\n",
        "Python is a high-level language, general-purpose , and very popular programming language.\n",
        "Python is a simple and easy to understand language which feels like reading simple\n",
        "English. This Pseudo code nature is easy to learn and understandable by beginners.\n",
        "\n",
        "Features of python\n",
        "• Easy to understand = Less development time\n",
        "• Free and open source\n",
        "• High level language\n",
        "• Portable: Works on Linux / Windows / Mac.\n",
        "• Fun to work with!\n",
        "'''"
      ]
    },
    {
      "cell_type": "code",
      "source": [
        "# Let’s write our very first python program. Create a file called hello.py and paste the below code in it.\n",
        "# In Python, the \"print()\" statement displays output on the screen (console).\n",
        "print(\"Hello World\")"
      ],
      "metadata": {
        "colab": {
          "base_uri": "https://localhost:8080/"
        },
        "id": "v01SOaWwTqs3",
        "outputId": "ea715347-d578-4de9-9ebc-83f48f5b3832"
      },
      "execution_count": 2,
      "outputs": [
        {
          "output_type": "stream",
          "name": "stdout",
          "text": [
            "Hello World\n"
          ]
        }
      ]
    },
    {
      "cell_type": "markdown",
      "source": [
        "☆ **Comments**: Comments are notes in the code that are ignored by the interpreter.They are used to explain the code and make it easier to understand."
      ],
      "metadata": {
        "id": "xHKY-xpNoFtg"
      }
    },
    {
      "cell_type": "code",
      "source": [
        "# Types of comments\n",
        "\n",
        "# 1. This is a Single-Line Comment\n",
        "\"\"\"2. This is an amazing\n",
        "example of a Multiline\n",
        "comment!\"\"\""
      ],
      "metadata": {
        "id": "9LjSC2ZBT_Kb"
      },
      "execution_count": 11,
      "outputs": []
    },
    {
      "cell_type": "markdown",
      "source": [
        "☆ **Variables**: Variables are names used to store data values."
      ],
      "metadata": {
        "id": "gybbc5HFoOqC"
      }
    },
    {
      "cell_type": "code",
      "source": [
        "# Variable\n",
        "a = 10\n",
        "b = \"Sam\"\n",
        "c = 7.12\n",
        "print(a,b,c)\n",
        "\n",
        "# variables = container to store a value.\n",
        "# keywords = reserved words in python\n",
        "# identifiers = class/function/variable name"
      ],
      "metadata": {
        "colab": {
          "base_uri": "https://localhost:8080/"
        },
        "id": "rvtI4IUrVjF9",
        "outputId": "b47cbef8-6d5f-4579-b65a-f5325fe09095"
      },
      "execution_count": 12,
      "outputs": [
        {
          "output_type": "stream",
          "name": "stdout",
          "text": [
            "10 Sam 7.12\n"
          ]
        }
      ]
    },
    {
      "cell_type": "markdown",
      "source": [
        "☆ **Data Types**: Data types defines the kind of value a variable can hold."
      ],
      "metadata": {
        "id": "MYk0I6Xzorob"
      }
    },
    {
      "cell_type": "code",
      "source": [
        "# Data Types = Data Types defines the kind of value a variable can hold.\n",
        "# Examples of basic data types...\n",
        "a = 10          # int(Integer)\n",
        "b = 20.5        # float(decimal number)\n",
        "name = \"Sam\"    # str(String)\n",
        "flag = True     #bool(Boolean)\n",
        "print(a, b, name, flag)"
      ],
      "metadata": {
        "colab": {
          "base_uri": "https://localhost:8080/"
        },
        "id": "0kWG-DGxWLWr",
        "outputId": "5ba2bf52-4ad9-4313-a3d5-e0fe9f623074"
      },
      "execution_count": 6,
      "outputs": [
        {
          "output_type": "stream",
          "name": "stdout",
          "text": [
            "10 20.5 Sam True\n"
          ]
        }
      ]
    },
    {
      "cell_type": "markdown",
      "source": [
        "☆ **Operators**: Operators are symbols that perform operations on values and variables."
      ],
      "metadata": {
        "id": "oKPdiz8mn5ii"
      }
    },
    {
      "cell_type": "code",
      "source": [
        "# Main operators...\n",
        "x = 15\n",
        "y = 5\n",
        "\n",
        "# Arithematic Operators\n",
        "a = x + y     #Addition\n",
        "b = x - y     #Substraction\n",
        "c = x * y     #Multiplication\n",
        "d = x / y     #Division\n",
        "e = x % y     #Modulus (remainder)\n",
        "f = x ** y    # Exponentiation (power)\n",
        "g = x // y    # Floor Division\n",
        "print(a,b,c,d,e,f,g)\n",
        "\n",
        "#Comparision Operators\n",
        "h = (x == y)  # Equal\n",
        "i = (x != y)  # Not Equal\n",
        "j = (x > y)   # Greater\n",
        "k = (x < y)   # Less\n",
        "l = (x >= y)  # Greater or Equal\n",
        "m = (x <= y)  # Less or Equal\n",
        "print(h,i,j,k,l,m)\n",
        "\n",
        "# Logical Operators\n",
        "n = (x and y)  # Logical AND\n",
        "o = (x or y)   # Logical OR\n",
        "p = (not x)    # Logical NOT\n",
        "print(n,o,p)\n",
        "\n",
        "# Assignment Operators\n",
        "x += 5  # Same as x = x + 5\n",
        "y -= 5  # Same as x = x - 5\n",
        "print(x,y)"
      ],
      "metadata": {
        "colab": {
          "base_uri": "https://localhost:8080/"
        },
        "id": "gc4PxSbLXhp4",
        "outputId": "f7a3a26b-d6f1-4644-d91b-10f1a6f290a0"
      },
      "execution_count": 7,
      "outputs": [
        {
          "output_type": "stream",
          "name": "stdout",
          "text": [
            "20 10 75 3.0 0 759375 3\n",
            "False True True False True False\n",
            "5 15 False\n",
            "20 0\n"
          ]
        }
      ]
    },
    {
      "cell_type": "markdown",
      "source": [
        "☆ **Expressions** = Expressions are combinations of values, variables, and operators that are evaluated to produce a result."
      ],
      "metadata": {
        "id": "MDcA8hVWnoau"
      }
    },
    {
      "cell_type": "code",
      "source": [
        "x = 5\n",
        "y = 3\n",
        "result = (x+y)**2\n",
        "print(result)\n",
        "\n",
        "# So an expression = something that Python can calculate and give you a value."
      ],
      "metadata": {
        "colab": {
          "base_uri": "https://localhost:8080/"
        },
        "id": "Uxyuu2dYXzkJ",
        "outputId": "b58a09d4-c650-41c8-ad1a-ced9d1543e30"
      },
      "execution_count": 8,
      "outputs": [
        {
          "output_type": "stream",
          "name": "stdout",
          "text": [
            "64\n"
          ]
        }
      ]
    },
    {
      "cell_type": "markdown",
      "source": [
        "# ★ **Input/Output handling:**\n",
        "Input: input() is uesd to take data from the user (always as a string).\n",
        " Output: print() is used to deisplay data on the screen."
      ],
      "metadata": {
        "id": "r3WlIOxDpXUA"
      }
    },
    {
      "cell_type": "code",
      "source": [
        "name = input(\"Enter your name: \")\n",
        "age = input(\"Enter your age: \")\n",
        "print(\"Hello\",name)\n",
        "print(\"Age\",int(age))"
      ],
      "metadata": {
        "colab": {
          "base_uri": "https://localhost:8080/"
        },
        "id": "578qy70ykd_d",
        "outputId": "b32f7e0e-d038-4a12-dbf5-b5c131a3ab54"
      },
      "execution_count": 11,
      "outputs": [
        {
          "output_type": "stream",
          "name": "stdout",
          "text": [
            "Enter your name: sam\n",
            "Enter your age: 45\n",
            "Hello sam\n",
            "Age 45\n"
          ]
        }
      ]
    },
    {
      "cell_type": "markdown",
      "source": [
        "# ★ TypeCasting:\n",
        "Typecasting means converting a value from one data type to another."
      ],
      "metadata": {
        "id": "L8_THO5Mp_QE"
      }
    },
    {
      "cell_type": "code",
      "source": [
        "\n",
        "\n",
        "x = int(\"10\")     # string to integer\n",
        "y = float(5)      # integer to float\n",
        "z = str(15)       # integer to string\n",
        "flag = bool(0)    # integer to boolean (0 → False)\n",
        "\n",
        "\n",
        "'''\n",
        "| Function  | Converts To          | Example          | Result    |\n",
        "| --------- | -------------------- | ---------------- | --------- |\n",
        "| int()     | Integer              | int(\"10\")        | 10        |\n",
        "| float()   | Float                | float(5)         | 5.0       |\n",
        "| str()     | String               | str(15)          | \"15\"      |\n",
        "| bool()    | Boolean              | bool(0)          | False     |\n",
        "| list()    | List                 | list((1,2,3))    | [1, 2, 3] |\n",
        "| tuple()   | Tuple                | tuple([1,2,3])   | (1, 2, 3) |\n",
        "| set()     | Set                  | set([1,2,2,3])   | {1, 2, 3} |\n",
        "''"
      ],
      "metadata": {
        "id": "laGkQgj2lt0i"
      },
      "execution_count": null,
      "outputs": []
    },
    {
      "cell_type": "markdown",
      "source": [
        "#★ CONTROL FLOW\n",
        "\n",
        "Control Flow in Python is the order in which statements are executed. It includes:\n",
        "1.   Conditional Statements – Decide actions based on conditions (if, elif, else).\n",
        "2.   Loops – Repeat actions multiple times (for loop, while loop).\n",
        "3.   Control Statements – Alter loop behavior (break, continue, pass).\n",
        "\n",
        "It helps your program make decisions and perform tasks repeatedly."
      ],
      "metadata": {
        "id": "eMgoZCDNnmpK"
      }
    },
    {
      "cell_type": "code",
      "source": [],
      "metadata": {
        "id": "j4JzZXDjnmba"
      },
      "execution_count": null,
      "outputs": []
    },
    {
      "cell_type": "code",
      "source": [],
      "metadata": {
        "id": "uM03WxjenmRt"
      },
      "execution_count": null,
      "outputs": []
    }
  ]
}