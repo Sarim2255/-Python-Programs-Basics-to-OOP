{
  "nbformat": 4,
  "nbformat_minor": 0,
  "metadata": {
    "colab": {
      "provenance": [],
      "authorship_tag": "ABX9TyM6x1I2EKyMHsE6NGpuAcq9",
      "include_colab_link": true
    },
    "kernelspec": {
      "name": "python3",
      "display_name": "Python 3"
    },
    "language_info": {
      "name": "python"
    }
  },
  "cells": [
    {
      "cell_type": "markdown",
      "metadata": {
        "id": "view-in-github",
        "colab_type": "text"
      },
      "source": [
        "<a href=\"https://colab.research.google.com/github/Sarim2255/-Python-Programs-Basics-to-OOP/blob/main/python_pattern_codes.ipynb\" target=\"_parent\"><img src=\"https://colab.research.google.com/assets/colab-badge.svg\" alt=\"Open In Colab\"/></a>"
      ]
    },
    {
      "cell_type": "markdown",
      "source": [
        "# ***Right Angled Triangle Pattern***"
      ],
      "metadata": {
        "id": "8eW3PeuuSb8L"
      }
    },
    {
      "cell_type": "code",
      "execution_count": 2,
      "metadata": {
        "colab": {
          "base_uri": "https://localhost:8080/"
        },
        "id": "tCllvEqBSZi1",
        "outputId": "548ae8d5-e688-47e0-dd83-c9056b243cc8"
      },
      "outputs": [
        {
          "output_type": "stream",
          "name": "stdout",
          "text": [
            "Enter the number of rows:5\n",
            "* \n",
            "* * \n",
            "* * * \n",
            "* * * * \n",
            "* * * * * \n"
          ]
        }
      ],
      "source": [
        "n = int(input(\"Enter the number of rows:\"))\n",
        "for i in range(1,user_input+1):\n",
        "  for j in range(i):\n",
        "    print(\"*\",end=\" \")\n",
        "  print()"
      ]
    },
    {
      "cell_type": "markdown",
      "source": [
        "# ***Inverted Right Angled Triangle***"
      ],
      "metadata": {
        "id": "ET2qwQU2TN5v"
      }
    },
    {
      "cell_type": "code",
      "source": [
        "n = int(input(\"Enter the number of rows:\"))\n",
        "for i in range(1,n+1):\n",
        "  for j in range(n+1-i):\n",
        "    print(\"*\",end=\" \")\n",
        "  print()"
      ],
      "metadata": {
        "colab": {
          "base_uri": "https://localhost:8080/"
        },
        "id": "TLfVQBA0TEnw",
        "outputId": "193b9c9b-3ab9-4d69-d3b0-8b2566c21bc1"
      },
      "execution_count": 4,
      "outputs": [
        {
          "output_type": "stream",
          "name": "stdout",
          "text": [
            "Enter the number of rows:5\n",
            "* * * * * \n",
            "* * * * \n",
            "* * * \n",
            "* * \n",
            "* \n"
          ]
        }
      ]
    },
    {
      "cell_type": "markdown",
      "source": [
        "# ***Pyramid Pattern***"
      ],
      "metadata": {
        "id": "jNy6viyLT6Lz"
      }
    },
    {
      "cell_type": "code",
      "source": [
        "# Method - 1\n",
        "n = int(input(\"Enter the number of rows:\"))\n",
        "for i in range(1,n+1):\n",
        "  for j in range(i):\n",
        "    if i%2 == 0:\n",
        "      continue\n",
        "    print(\"*\",end=\" \")\n",
        "  print()"
      ],
      "metadata": {
        "colab": {
          "base_uri": "https://localhost:8080/"
        },
        "id": "4fJu3MhiT1PO",
        "outputId": "02c0a77d-18a0-4190-a5ad-84e442709d30"
      },
      "execution_count": 7,
      "outputs": [
        {
          "output_type": "stream",
          "name": "stdout",
          "text": [
            "Enter the number of rows:10\n",
            "* \n",
            "\n",
            "* * * \n",
            "\n",
            "* * * * * \n",
            "\n",
            "* * * * * * * \n",
            "\n",
            "* * * * * * * * * \n",
            "\n"
          ]
        }
      ]
    },
    {
      "cell_type": "markdown",
      "source": [],
      "metadata": {
        "id": "nyaQqKhCUaPG"
      }
    },
    {
      "cell_type": "code",
      "source": [
        "# Method - 2\n",
        "n = int(input(\"Enter the number of rows:\"))\n",
        "for i in range(1, n+1):\n",
        "  print(''*(n-i)+'*'*(2*i-1))"
      ],
      "metadata": {
        "colab": {
          "base_uri": "https://localhost:8080/"
        },
        "id": "4kcfTPjGUUQ5",
        "outputId": "3eacb7b1-49fe-440b-e217-d40b00459a17"
      },
      "execution_count": 10,
      "outputs": [
        {
          "output_type": "stream",
          "name": "stdout",
          "text": [
            "Enter the number of rows:6\n",
            "*\n",
            "***\n",
            "*****\n",
            "*******\n",
            "*********\n",
            "***********\n"
          ]
        }
      ]
    },
    {
      "cell_type": "code",
      "source": [
        "# Method - 3\n",
        "n = int(input(\"Enter the number of rows:\"))\n",
        "for i in range(1,n+1):\n",
        "  if i%2==0:\n",
        "    continue\n",
        "  for j in range(i):\n",
        "    print(\"*\",end=\" \")\n",
        "  print()\n"
      ],
      "metadata": {
        "colab": {
          "base_uri": "https://localhost:8080/"
        },
        "id": "MIGVlXhpVuYd",
        "outputId": "13100622-bda6-4b4e-d67f-03f54345037d"
      },
      "execution_count": 14,
      "outputs": [
        {
          "output_type": "stream",
          "name": "stdout",
          "text": [
            "Enter the number of rows:10\n",
            "* \n",
            "* * * \n",
            "* * * * * \n",
            "* * * * * * * \n",
            "* * * * * * * * * \n"
          ]
        }
      ]
    },
    {
      "cell_type": "code",
      "source": [
        "# Method - 4\n",
        "for i in range(5):\n",
        "  for j in range(i+1):\n",
        "    print(\"*\",end=\"\")\n",
        "  else:\n",
        "    print('',end=\" \")\n",
        "  print()"
      ],
      "metadata": {
        "colab": {
          "base_uri": "https://localhost:8080/"
        },
        "id": "y854PcH9cTbM",
        "outputId": "1bc5a080-e47a-476b-fedc-3783cac84514"
      },
      "execution_count": 38,
      "outputs": [
        {
          "output_type": "stream",
          "name": "stdout",
          "text": [
            "* \n",
            "** \n",
            "*** \n",
            "**** \n",
            "***** \n"
          ]
        }
      ]
    },
    {
      "cell_type": "code",
      "source": [
        "# Method - 4\n",
        "n = 5\n",
        "for i in range(1,n+1):\n",
        "  for j in range(n-i):\n",
        "    print(\" \",end=\" \")\n",
        "  for j in range(i):\n",
        "    print(\"*\",end=\" \")\n",
        "  print()"
      ],
      "metadata": {
        "colab": {
          "base_uri": "https://localhost:8080/"
        },
        "id": "ot6hhGIZlAgj",
        "outputId": "bb25aa8d-c620-4ca5-fa15-5fde30cc0382"
      },
      "execution_count": 67,
      "outputs": [
        {
          "output_type": "stream",
          "name": "stdout",
          "text": [
            "        * \n",
            "      * * \n",
            "    * * * \n",
            "  * * * * \n",
            "* * * * * \n"
          ]
        }
      ]
    },
    {
      "cell_type": "markdown",
      "source": [
        "# ***Inverted Pyramid Pattern***"
      ],
      "metadata": {
        "id": "0qwjGUc7WzJN"
      }
    },
    {
      "cell_type": "code",
      "source": [
        "n = int(input(\"Enter the number of rows:\"))\n",
        "for i in range(1,n+1):\n",
        "  if i%2==0:\n",
        "    continue\n",
        "  for j in range(n-i):\n",
        "    print(\"*\",end=\" \")\n",
        "  print()\n"
      ],
      "metadata": {
        "colab": {
          "base_uri": "https://localhost:8080/"
        },
        "id": "Nh-q7pAPWfUk",
        "outputId": "0f329fed-2bb2-42d1-8e4c-4cecf1151d1d"
      },
      "execution_count": 15,
      "outputs": [
        {
          "output_type": "stream",
          "name": "stdout",
          "text": [
            "Enter the number of rows:10\n",
            "* * * * * * * * * \n",
            "* * * * * * * \n",
            "* * * * * \n",
            "* * * \n",
            "* \n"
          ]
        }
      ]
    },
    {
      "cell_type": "markdown",
      "source": [
        "# *Diamond Pattern*"
      ],
      "metadata": {
        "id": "6172GusuW6j3"
      }
    },
    {
      "cell_type": "code",
      "source": [
        "# Method - 1\n",
        "n = int(input(\"Enter the diamond size:\"))\n",
        "for i in range(1,n):\n",
        "  if i%2==0:\n",
        "    continue\n",
        "  for j in range(i):\n",
        "    print(\"*\",end=\" \")\n",
        "  print()\n",
        "for i in range(1,n):\n",
        "  if i%2==0:\n",
        "    continue\n",
        "  for j in range(n-1-i):\n",
        "    print(\"*\",end=\" \")\n",
        "  print()\n"
      ],
      "metadata": {
        "colab": {
          "base_uri": "https://localhost:8080/"
        },
        "id": "arj4lPK6W4hT",
        "outputId": "c255805f-7efc-4c2f-8527-a2b5414e3aeb"
      },
      "execution_count": 20,
      "outputs": [
        {
          "output_type": "stream",
          "name": "stdout",
          "text": [
            "Enter the diamond size:10\n",
            "* \n",
            "* * * \n",
            "* * * * * \n",
            "* * * * * * * \n",
            "* * * * * * * * * \n",
            "* * * * * * * * \n",
            "* * * * * * \n",
            "* * * * \n",
            "* * \n",
            "\n"
          ]
        }
      ]
    },
    {
      "cell_type": "code",
      "source": [
        "# Method - 2\n",
        "n = int(input(\"Enter the diamond size\"))\n",
        "for i in range(1,n+1,2):\n",
        "  print(\"*\"*i)\n",
        "for i in range(n-2,0,-2):\n",
        "  print(\"*\"*i)"
      ],
      "metadata": {
        "colab": {
          "base_uri": "https://localhost:8080/"
        },
        "id": "VO0JN-PHXJcH",
        "outputId": "5f464530-a444-4e9e-c753-f0d69f440ece"
      },
      "execution_count": 21,
      "outputs": [
        {
          "output_type": "stream",
          "name": "stdout",
          "text": [
            "Enter the diamond size9\n",
            "*\n",
            "***\n",
            "*****\n",
            "*******\n",
            "*********\n",
            "*******\n",
            "*****\n",
            "***\n",
            "*\n"
          ]
        }
      ]
    },
    {
      "cell_type": "markdown",
      "source": [
        "# ***Hallow Square Pattern***\n",
        "\n"
      ],
      "metadata": {
        "id": "dK1pKRT2ZBaw"
      }
    },
    {
      "cell_type": "code",
      "source": [
        "n = int(input(\"Enter the number of rows:\"))\n",
        "for i in range(n):\n",
        "  for j in range(n):\n",
        "    if i==0 or i==4 or j==0 or j==4:\n",
        "      print(\"*\",end=\" \")\n",
        "    else:\n",
        "      print(\" \",end=\" \")\n",
        "  print()\n"
      ],
      "metadata": {
        "colab": {
          "base_uri": "https://localhost:8080/"
        },
        "id": "SoEN9V8AY19D",
        "outputId": "41b7eca4-89c8-4ead-dd56-0dbb0740f215"
      },
      "execution_count": 27,
      "outputs": [
        {
          "output_type": "stream",
          "name": "stdout",
          "text": [
            "Enter the number of rows:5\n",
            "* * * * * \n",
            "*       * \n",
            "*       * \n",
            "*       * \n",
            "* * * * * \n"
          ]
        }
      ]
    },
    {
      "cell_type": "code",
      "source": [
        "n = 5\n",
        "for i in range(n,0,-1):\n",
        "  for j in range(n-i):\n",
        "    print(' ',end=' ')\n",
        "  for j in range(2*i-1):\n",
        "    print(\"*\",end=\" \")\n",
        "  print()"
      ],
      "metadata": {
        "colab": {
          "base_uri": "https://localhost:8080/"
        },
        "id": "dvMUpc6dls7t",
        "outputId": "ce418356-3c37-4e39-baee-52ccd43b1796"
      },
      "execution_count": 68,
      "outputs": [
        {
          "output_type": "stream",
          "name": "stdout",
          "text": [
            "* * * * * * * * * \n",
            "  * * * * * * * \n",
            "    * * * * * \n",
            "      * * * \n",
            "        * \n"
          ]
        }
      ]
    },
    {
      "cell_type": "code",
      "source": [
        "n = int(input(\"Enter the number of rows:\"))\n",
        "for i in range(n):\n",
        "  for j in range(n):\n",
        "    print(\"*\",end=\" \")\n",
        "  print()"
      ],
      "metadata": {
        "colab": {
          "base_uri": "https://localhost:8080/"
        },
        "id": "MJ8Ajl1ZZlvb",
        "outputId": "2d76e7ba-998f-40fe-ada2-264619298f50"
      },
      "execution_count": 30,
      "outputs": [
        {
          "output_type": "stream",
          "name": "stdout",
          "text": [
            "Enter the number of rows:5\n",
            "* * * * * \n",
            "* * * * * \n",
            "* * * * * \n",
            "* * * * * \n",
            "* * * * * \n"
          ]
        }
      ]
    },
    {
      "cell_type": "markdown",
      "source": [
        "# ***Number Pattern***"
      ],
      "metadata": {
        "id": "YB_7uZnPaSo1"
      }
    },
    {
      "cell_type": "code",
      "source": [
        "# Method - 1\n",
        "n = int(input(\"Enter a number:\"))\n",
        "for i in range(1,n):\n",
        "  for j in range(1,n+1-i):\n",
        "    print(j,end=\" \")\n",
        "  print()"
      ],
      "metadata": {
        "colab": {
          "base_uri": "https://localhost:8080/"
        },
        "id": "hXOXcRlXaFLN",
        "outputId": "b50dd5ff-674a-4561-83cb-4636ba8b8106"
      },
      "execution_count": 39,
      "outputs": [
        {
          "output_type": "stream",
          "name": "stdout",
          "text": [
            "Enter a number:6\n",
            "1 2 3 4 5 \n",
            "1 2 3 4 \n",
            "1 2 3 \n",
            "1 2 \n",
            "1 \n"
          ]
        }
      ]
    },
    {
      "cell_type": "code",
      "source": [
        "# Method - 2\n",
        "n = int(input(\"Enter a number:\"))\n",
        "for i in range(1,n):\n",
        "  for j in range(1,i+1):\n",
        "    print(j,end=\" \")\n",
        "  print()"
      ],
      "metadata": {
        "colab": {
          "base_uri": "https://localhost:8080/"
        },
        "id": "utymrkHzbBVG",
        "outputId": "c44556a1-9c5e-44fa-e711-0a9f2c008d97"
      },
      "execution_count": 40,
      "outputs": [
        {
          "output_type": "stream",
          "name": "stdout",
          "text": [
            "Enter a number:6\n",
            "1 \n",
            "1 2 \n",
            "1 2 3 \n",
            "1 2 3 4 \n",
            "1 2 3 4 5 \n"
          ]
        }
      ]
    },
    {
      "cell_type": "code",
      "source": [
        "# Method - 3\n",
        "n = 5\n",
        "for i in range(1,n+1):\n",
        "  for j in range(n-i):\n",
        "    print(\" \",end=\" \")\n",
        "  for j in range(1,i+1):\n",
        "    print(j,end=\" \")\n",
        "  print()"
      ],
      "metadata": {
        "colab": {
          "base_uri": "https://localhost:8080/"
        },
        "id": "vunDGa_XkTP7",
        "outputId": "fde7c3f4-e491-443f-a00a-4c2be779bf0e"
      },
      "execution_count": 66,
      "outputs": [
        {
          "output_type": "stream",
          "name": "stdout",
          "text": [
            "        1 \n",
            "      1 2 \n",
            "    1 2 3 \n",
            "  1 2 3 4 \n",
            "1 2 3 4 5 \n"
          ]
        }
      ]
    },
    {
      "cell_type": "code",
      "source": [
        "# Method - 4\n",
        "n = int(input(\"Enter a number:\"))\n",
        "for i in range(1,n):\n",
        "  for j in range(i,i*2):\n",
        "    print(j,end=\" \")\n",
        "  print()"
      ],
      "metadata": {
        "colab": {
          "base_uri": "https://localhost:8080/"
        },
        "id": "wSpwAY5EbMbh",
        "outputId": "3df0f5b4-94fb-4580-d2fd-c2181946d9eb"
      },
      "execution_count": 41,
      "outputs": [
        {
          "output_type": "stream",
          "name": "stdout",
          "text": [
            "Enter a number:8\n",
            "1 \n",
            "2 3 \n",
            "3 4 5 \n",
            "4 5 6 7 \n",
            "5 6 7 8 9 \n",
            "6 7 8 9 10 11 \n",
            "7 8 9 10 11 12 13 \n"
          ]
        }
      ]
    },
    {
      "cell_type": "code",
      "source": [
        "# Method - 5\n",
        "num = 1\n",
        "for i in range(1,6):\n",
        "  for j in range(1,i+1):\n",
        "    print(num,end=' ')\n",
        "    num+=1\n",
        "  print()\n"
      ],
      "metadata": {
        "colab": {
          "base_uri": "https://localhost:8080/"
        },
        "id": "KPwKS-DLbYC8",
        "outputId": "99aed073-d445-4ba8-aa33-d619c1a416cf"
      },
      "execution_count": 42,
      "outputs": [
        {
          "output_type": "stream",
          "name": "stdout",
          "text": [
            "1 \n",
            "2 3 \n",
            "4 5 6 \n",
            "7 8 9 10 \n",
            "11 12 13 14 15 \n"
          ]
        }
      ]
    },
    {
      "cell_type": "markdown",
      "source": [
        "# ***Hollow Shapes & Complex Patterns***"
      ],
      "metadata": {
        "id": "oT204lCqcyJ7"
      }
    },
    {
      "cell_type": "code",
      "source": [
        "# Pattern - 1\n",
        "for i in range(1, 6):\n",
        "    for j in range(1, i + 1):\n",
        "        if j == 1 or j == i or i == 5:\n",
        "            print(\"*\", end=\" \")\n",
        "        else:\n",
        "            print(\" \", end=\" \")\n",
        "    print()\n"
      ],
      "metadata": {
        "colab": {
          "base_uri": "https://localhost:8080/"
        },
        "id": "CKiM-mgOcMHc",
        "outputId": "6c62a638-bc76-4a4a-c2de-ad2996f2b00e"
      },
      "execution_count": 55,
      "outputs": [
        {
          "output_type": "stream",
          "name": "stdout",
          "text": [
            "* \n",
            "* * \n",
            "*   * \n",
            "*     * \n",
            "* * * * * \n"
          ]
        }
      ]
    },
    {
      "cell_type": "code",
      "source": [
        "# Pattern - 2\n",
        "for i in range(1, 6):\n",
        "    for j in range(5-i):\n",
        "      print(\" \", end=\" \")\n",
        "    for j in range(2*i-1):\n",
        "        if j == 0 or j == 2*i-2 or i == 5:\n",
        "            print(\"*\", end=\" \")\n",
        "        else:\n",
        "            print(\" \", end=\" \")\n",
        "    print()\n"
      ],
      "metadata": {
        "colab": {
          "base_uri": "https://localhost:8080/"
        },
        "id": "BaO2YL87dMX3",
        "outputId": "6435b8cd-cdaf-46da-9724-c2287817b400"
      },
      "execution_count": 57,
      "outputs": [
        {
          "output_type": "stream",
          "name": "stdout",
          "text": [
            "        * \n",
            "      *   * \n",
            "    *       * \n",
            "  *           * \n",
            "* * * * * * * * * \n"
          ]
        }
      ]
    },
    {
      "cell_type": "code",
      "source": [
        "# Pattern - 3\n",
        "for i in range(1,6):\n",
        "  for j in range(5-i):\n",
        "    print(\" \",end=\" \")\n",
        "  for j in range(2*i-1):\n",
        "    if j==0 or j==2*i-2:\n",
        "      print(\"*\",end=\" \")\n",
        "    else:\n",
        "      print(\" \",end=\" \")\n",
        "  print()\n",
        "for i in range(4,0,-1):\n",
        "  for j in range(5-i):\n",
        "    print(\" \",end=\" \")\n",
        "  for j in range(2*i-1):\n",
        "    if j==0 or j==2*i-2:\n",
        "      print(\"*\",end=\" \")\n",
        "    else:\n",
        "      print(\" \",end=\" \")\n",
        "  print()"
      ],
      "metadata": {
        "colab": {
          "base_uri": "https://localhost:8080/"
        },
        "id": "vwVQY9vufNwZ",
        "outputId": "904cca84-c479-4eb5-e772-a55d7d80bf64"
      },
      "execution_count": 59,
      "outputs": [
        {
          "output_type": "stream",
          "name": "stdout",
          "text": [
            "        * \n",
            "      *   * \n",
            "    *       * \n",
            "  *           * \n",
            "*               * \n",
            "  *           * \n",
            "    *       * \n",
            "      *   * \n",
            "        * \n"
          ]
        }
      ]
    },
    {
      "cell_type": "code",
      "source": [
        "# Pattern - 4\n",
        "for i in range(1,6):\n",
        "  for j in range(5-i):\n",
        "    print(\" \",end=\" \")\n",
        "  for j in range(2*i-1):\n",
        "    if j==0 or j==2*i-2:\n",
        "      print(i,end=\" \")\n",
        "    else:\n",
        "      print(\" \",end=\" \")\n",
        "  print()\n",
        "for i in range(4,0,-1):\n",
        "  for j in range(5-i):\n",
        "    print(\" \",end=\" \")\n",
        "  for j in range(2*i-1):\n",
        "    if j==0 or j==2*i-2:\n",
        "      print(i,end=\" \")\n",
        "    else:\n",
        "      print(\" \",end=\" \")\n",
        "  print()"
      ],
      "metadata": {
        "colab": {
          "base_uri": "https://localhost:8080/"
        },
        "id": "uUao_OJff2Lr",
        "outputId": "2100ad45-cfbc-4d89-9681-0107edd7a056"
      },
      "execution_count": 60,
      "outputs": [
        {
          "output_type": "stream",
          "name": "stdout",
          "text": [
            "        1 \n",
            "      2   2 \n",
            "    3       3 \n",
            "  4           4 \n",
            "5               5 \n",
            "  4           4 \n",
            "    3       3 \n",
            "      2   2 \n",
            "        1 \n"
          ]
        }
      ]
    },
    {
      "cell_type": "code",
      "source": [
        "# Pattern - 4\n",
        "n = 5\n",
        "for i in range(1,n+1):\n",
        "  for j in range(1,i+1):\n",
        "    print(j,end=' ')\n",
        "  for j in range(2*(n-i)):\n",
        "    print(' ',end=\" \")\n",
        "  for j in range(1,i+1):\n",
        "    print(j,end=' ')\n",
        "  print()\n",
        "for i in range(n,0,-1):\n",
        "  for j in range(1,i+1):\n",
        "    print(j,end=\" \")\n",
        "  for j in range(2*(n-i)):\n",
        "    print(\" \",end=\" \")\n",
        "  for j in range(1,i+1):\n",
        "    print(j,end=\" \")\n",
        "  print()"
      ],
      "metadata": {
        "colab": {
          "base_uri": "https://localhost:8080/"
        },
        "id": "6JPwYuPqhZpZ",
        "outputId": "e9409cbf-abe8-4701-cf3f-b73b809458a6"
      },
      "execution_count": 61,
      "outputs": [
        {
          "output_type": "stream",
          "name": "stdout",
          "text": [
            "1                 1 \n",
            "1 2             1 2 \n",
            "1 2 3         1 2 3 \n",
            "1 2 3 4     1 2 3 4 \n",
            "1 2 3 4 5 1 2 3 4 5 \n",
            "1 2 3 4 5 1 2 3 4 5 \n",
            "1 2 3 4     1 2 3 4 \n",
            "1 2 3         1 2 3 \n",
            "1 2             1 2 \n",
            "1                 1 \n"
          ]
        }
      ]
    },
    {
      "cell_type": "code",
      "source": [
        "# Pattern - 5\n",
        "n = 5\n",
        "for i in range(1,n+1):\n",
        "  for j in range(1,i+1):\n",
        "    print(\"*\",end=' ')\n",
        "  for j in range(2*(n-i)):\n",
        "    print(' ',end=\" \")\n",
        "  for j in range(1,i+1):\n",
        "    print(\"*\",end=' ')\n",
        "  print()\n",
        "for i in range(n,0,-1):\n",
        "  for j in range(1,i+1):\n",
        "    print(\"*\",end=\" \")\n",
        "  for j in range(2*(n-i)):\n",
        "    print(\" \",end=\" \")\n",
        "  for j in range(1,i+1):\n",
        "    print(\"*\",end=\" \")\n",
        "  print()"
      ],
      "metadata": {
        "colab": {
          "base_uri": "https://localhost:8080/"
        },
        "id": "Zx0HqQOKilyV",
        "outputId": "7014437c-03f4-47fb-fa08-f39cf8d3c091"
      },
      "execution_count": 62,
      "outputs": [
        {
          "output_type": "stream",
          "name": "stdout",
          "text": [
            "*                 * \n",
            "* *             * * \n",
            "* * *         * * * \n",
            "* * * *     * * * * \n",
            "* * * * * * * * * * \n",
            "* * * * * * * * * * \n",
            "* * * *     * * * * \n",
            "* * *         * * * \n",
            "* *             * * \n",
            "*                 * \n"
          ]
        }
      ]
    },
    {
      "cell_type": "code",
      "source": [
        "# Pattern - 6\n",
        "n = 5\n",
        "for i in range(1,n+1):\n",
        "  for j in range(1,i+1):\n",
        "    print(j,end=' ')\n",
        "  for j in range(2*(n-i)):\n",
        "    print(' ',end=\" \")\n",
        "  for j in range(1,i+1):\n",
        "    print(j,end=' ')\n",
        "  print()\n",
        "for i in range(n,0,-1):\n",
        "  for j in range(1,i+1):\n",
        "    print(j,end=\" \")\n",
        "  for j in range(2*(n-i)):\n",
        "    print(\" \",end=\" \")\n",
        "  for j in range(1,i+1):\n",
        "    print(j,end=\" \")\n",
        "  print()\n",
        "\n",
        "for i in range(1,n+1):\n",
        "  for j in range(1,i+1):\n",
        "    print(\"*\",end=' ')\n",
        "  for j in range(2*(n-i)):\n",
        "    print(' ',end=\" \")\n",
        "  for j in range(1,i+1):\n",
        "    print(\"*\",end=' ')\n",
        "  print()\n",
        "for i in range(n,0,-1):\n",
        "  for j in range(1,i+1):\n",
        "    print(\"*\",end=\" \")\n",
        "  for j in range(2*(n-i)):\n",
        "    print(\" \",end=\" \")\n",
        "  for j in range(1,i+1):\n",
        "    print(\"*\",end=\" \")\n",
        "  print()"
      ],
      "metadata": {
        "colab": {
          "base_uri": "https://localhost:8080/"
        },
        "id": "2vR0KMhUi0Jr",
        "outputId": "0ee60af0-b79b-47e0-ed83-ecd9b759cb9c"
      },
      "execution_count": 63,
      "outputs": [
        {
          "output_type": "stream",
          "name": "stdout",
          "text": [
            "1                 1 \n",
            "1 2             1 2 \n",
            "1 2 3         1 2 3 \n",
            "1 2 3 4     1 2 3 4 \n",
            "1 2 3 4 5 1 2 3 4 5 \n",
            "1 2 3 4 5 1 2 3 4 5 \n",
            "1 2 3 4     1 2 3 4 \n",
            "1 2 3         1 2 3 \n",
            "1 2             1 2 \n",
            "1                 1 \n",
            "*                 * \n",
            "* *             * * \n",
            "* * *         * * * \n",
            "* * * *     * * * * \n",
            "* * * * * * * * * * \n",
            "* * * * * * * * * * \n",
            "* * * *     * * * * \n",
            "* * *         * * * \n",
            "* *             * * \n",
            "*                 * \n"
          ]
        }
      ]
    },
    {
      "cell_type": "code",
      "source": [
        "# Pattern - 7\n",
        "n = 5\n",
        "for i in range(1,n+1):\n",
        "  for j in range(n-i):\n",
        "    print(' ',end=' ')\n",
        "  for j in range(1,2*i):\n",
        "    if j==1 or j==2*i-1 or i==5:\n",
        "      print(i,end=\" \")\n",
        "    else:\n",
        "      print(' ',end=\" \")\n",
        "  print()"
      ],
      "metadata": {
        "colab": {
          "base_uri": "https://localhost:8080/"
        },
        "id": "rB9ev1ski-VD",
        "outputId": "ab1c7dfe-0660-48af-e43b-4686e22237fb"
      },
      "execution_count": 64,
      "outputs": [
        {
          "output_type": "stream",
          "name": "stdout",
          "text": [
            "        1 \n",
            "      2   2 \n",
            "    3       3 \n",
            "  4           4 \n",
            "5 5 5 5 5 5 5 5 5 \n"
          ]
        }
      ]
    },
    {
      "cell_type": "code",
      "source": [
        "# Pattern - 8\n",
        "n = 5\n",
        "for i in range(1,n+1):\n",
        "  for j in range(n-i):\n",
        "    print(' ',end=' ')\n",
        "  for j in range(1,2*i):\n",
        "    if j==1 or j==2*i-1 or i==5:\n",
        "      print(\"*\",end=\" \")\n",
        "    else:\n",
        "      print(' ',end=\" \")\n",
        "  print()"
      ],
      "metadata": {
        "colab": {
          "base_uri": "https://localhost:8080/"
        },
        "id": "OoNYKI5kj2Mq",
        "outputId": "e1f390ac-0e0e-4994-cdda-2e430d189f43"
      },
      "execution_count": 65,
      "outputs": [
        {
          "output_type": "stream",
          "name": "stdout",
          "text": [
            "        * \n",
            "      *   * \n",
            "    *       * \n",
            "  *           * \n",
            "* * * * * * * * * \n"
          ]
        }
      ]
    },
    {
      "cell_type": "code",
      "source": [],
      "metadata": {
        "id": "dyXKriF-kACr"
      },
      "execution_count": null,
      "outputs": []
    }
  ]
}