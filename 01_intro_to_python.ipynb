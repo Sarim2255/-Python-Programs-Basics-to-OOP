{
  "nbformat": 4,
  "nbformat_minor": 0,
  "metadata": {
    "colab": {
      "provenance": [],
      "authorship_tag": "ABX9TyNJJEM3ew6SHbRyiCKnMCem",
      "include_colab_link": true
    },
    "kernelspec": {
      "name": "python3",
      "display_name": "Python 3"
    },
    "language_info": {
      "name": "python"
    }
  },
  "cells": [
    {
      "cell_type": "markdown",
      "metadata": {
        "id": "view-in-github",
        "colab_type": "text"
      },
      "source": [
        "<a href=\"https://colab.research.google.com/github/Sarim2255/-Python-Programs-Basics-to-OOP/blob/main/01_intro_to_python.ipynb\" target=\"_parent\"><img src=\"https://colab.research.google.com/assets/colab-badge.svg\" alt=\"Open In Colab\"/></a>"
      ]
    },
    {
      "cell_type": "markdown",
      "source": [
        "# **Introduction to Python**\n",
        "\n",
        "\n",
        "\n",
        "*   Python is a high-level language, general-purpose , and very popular programming language.\n",
        "*   Python is a simple and easy to understand language which feels like reading simple English.\n",
        "*    This Pseudo code nature is easy to learn and understandable by beginners.\n",
        "*   General Purpose Language (simple yet very powerful language)\n",
        "      * Console application & script\n",
        "      * Desktop application\n",
        "      * Game Development\n",
        "      * Web application\n",
        "      * Machine Learning, Deep Learning, AI, Big Data,  etc.\n",
        "\n",
        "\n",
        "*   Multiparadigm Support\n",
        "      * Procedural style programming like C.\n",
        "      * OOPs like Java.\n",
        "      * Functional programming like list.\n",
        "*   Portable or Platform independent\n",
        "      * Programs are typically first compiled into an intermediate code, then the code is run by the interpreter.\n",
        "\n",
        "\n",
        "---\n",
        "\n",
        "\n",
        "\n",
        "\n",
        "\n",
        "\n",
        "\n",
        "\n",
        "\n",
        "\n",
        "\n",
        "\n",
        "\n"
      ],
      "metadata": {
        "id": "cv3dBbU5rP6o"
      }
    },
    {
      "cell_type": "markdown",
      "source": [
        "# **Features of python**\n",
        "\n",
        "*   Easy to understand = Less development time\n",
        "*   Interpreter Based\n",
        "*   Interactive\n",
        "*   Multi-paradigm\n",
        "*   Open source and Cross-Platform\n",
        "*   High level language\n",
        "*   Portable: Works on Linux / Windows / Mac.\n",
        "*   Fun to work with!\n",
        "*   Large Standard library\n",
        "*   GUI Development\n",
        "*   Database Connectivity\n",
        "*   Extensible\n",
        "*   Developer community\n",
        "\n",
        "\n",
        "---\n",
        "\n",
        "\n",
        "\n",
        "\n"
      ],
      "metadata": {
        "id": "8edTaWdjrohp"
      }
    },
    {
      "cell_type": "code",
      "source": [
        "# Let’s write our very first python program. Create a file called hello.py and paste the below code in it.\n",
        "# In Python, the \"print()\" statement displays output on the screen (console).\n",
        "print(\"Hello World\")"
      ],
      "metadata": {
        "colab": {
          "base_uri": "https://localhost:8080/"
        },
        "id": "ITodj9Pu1QLM",
        "outputId": "623ca261-d000-45bc-dfc0-ae0ed30d5302"
      },
      "execution_count": 1,
      "outputs": [
        {
          "output_type": "stream",
          "name": "stdout",
          "text": [
            "Hello World\n"
          ]
        }
      ]
    },
    {
      "cell_type": "markdown",
      "source": [
        "# ☆ **Comments**:\n",
        "Comments are notes in the code that are ignored by the interpreter.They are used to explain the code and make it easier to understand."
      ],
      "metadata": {
        "id": "ZmAl5DNv1WRJ"
      }
    },
    {
      "cell_type": "code",
      "source": [
        "# Types of comments\n",
        "\n",
        "# 1. This is a Single-Line Comment\n",
        "\"\"\"2. This is an amazing\n",
        "example of a Multiline\n",
        "comment!\"\"\""
      ],
      "metadata": {
        "id": "FgW1lklp1QnN"
      },
      "execution_count": null,
      "outputs": []
    },
    {
      "cell_type": "markdown",
      "source": [
        "# ☆ **Variables**:\n",
        "Variables is a name that is used to refer to memeory location.Python varibales is also known as an identifier and is used to hold value.\n",
        "\n",
        "\n",
        "In python, we don't need to specify the type of variable because Python is a infer language and smart enough to get variable type\n",
        "\n",
        "\n"
      ],
      "metadata": {
        "id": "PJB1nigw1hfq"
      }
    },
    {
      "cell_type": "code",
      "source": [
        "# Variable\n",
        "a = 10\n",
        "b = \"Sam\"\n",
        "c = 7.12\n",
        "print(a,b,c)\n",
        "\n",
        "# variables = container to store a value.\n",
        "# keywords = reserved words in python\n",
        "# identifiers = class/function/variable name"
      ],
      "metadata": {
        "colab": {
          "base_uri": "https://localhost:8080/"
        },
        "id": "1pqz51nL1gr6",
        "outputId": "adcab56f-91d0-41d2-f97e-2033373f5564"
      },
      "execution_count": 3,
      "outputs": [
        {
          "output_type": "stream",
          "name": "stdout",
          "text": [
            "10 Sam 7.12\n"
          ]
        }
      ]
    },
    {
      "cell_type": "markdown",
      "source": [
        "# ☆ **Data Types**:\n",
        "\n",
        "\n",
        "Data types defines the kind of value a variable can hold."
      ],
      "metadata": {
        "id": "xyPGK4x22glZ"
      }
    },
    {
      "cell_type": "code",
      "source": [
        "# Data Types = Data Types defines the kind of value a variable can hold.\n",
        "# Examples of basic data types...\n",
        "a = 10          # int(Integer)\n",
        "b = 20.5        # float(decimal number)\n",
        "name = \"Sam\"    # str(String)\n",
        "flag = True     #bool(Boolean)\n",
        "print(a, b, name, flag)"
      ],
      "metadata": {
        "colab": {
          "base_uri": "https://localhost:8080/"
        },
        "id": "2WiwlbfL2bTJ",
        "outputId": "b02306e5-e47b-48d0-9276-0cffb8ee4552"
      },
      "execution_count": 4,
      "outputs": [
        {
          "output_type": "stream",
          "name": "stdout",
          "text": [
            "10 20.5 Sam True\n"
          ]
        }
      ]
    },
    {
      "cell_type": "markdown",
      "source": [
        "# ☆ **Operators**:\n",
        "\n",
        "Operators are symbols that perform operations on values and variables."
      ],
      "metadata": {
        "id": "U8sXWmv52pDm"
      }
    },
    {
      "cell_type": "code",
      "source": [
        "# Main operators...\n",
        "x = 15\n",
        "y = 5\n",
        "\n",
        "# Arithematic Operators\n",
        "a = x + y     #Addition\n",
        "b = x - y     #Substraction\n",
        "c = x * y     #Multiplication\n",
        "d = x / y     #Division\n",
        "e = x % y     #Modulus (remainder)\n",
        "f = x ** y    # Exponentiation (power)\n",
        "g = x // y    # Floor Division\n",
        "# print(a,b,c,d,e,f,g)\n",
        "\n",
        "#Comparision Operators\n",
        "h = (x == y)  # Equal\n",
        "i = (x != y)  # Not Equal\n",
        "j = (x > y)   # Greater\n",
        "k = (x < y)   # Less\n",
        "l = (x >= y)  # Greater or Equal\n",
        "m = (x <= y)  # Less or Equal\n",
        "# print(h,i,j,k,l,m)\n",
        "\n",
        "# Logical Operators\n",
        "n = (x and y)  # Logical AND\n",
        "o = (x or y)   # Logical OR\n",
        "p = (not x)    # Logical NOT\n",
        "# print(n,o,p)\n",
        "\n",
        "# Assignment Operators\n",
        "x += 5  # Same as x = x + 5\n",
        "y -= 5  # Same as x = x - 5\n",
        "# print(x,y)"
      ],
      "metadata": {
        "id": "jticlG2O2mg9"
      },
      "execution_count": 6,
      "outputs": []
    },
    {
      "cell_type": "markdown",
      "source": [
        "# ☆ **Expressions**:\n",
        "\n",
        " Expressions are combinations of values, variables, and operators that are evaluated to produce a result."
      ],
      "metadata": {
        "id": "ZLIlSd_V26V0"
      }
    },
    {
      "cell_type": "code",
      "source": [
        "x = 5\n",
        "y = 3\n",
        "result = (x+y)**2\n",
        "print(result)\n",
        "\n",
        "# So an expression = something that Python can calculate and give you a value."
      ],
      "metadata": {
        "colab": {
          "base_uri": "https://localhost:8080/"
        },
        "id": "8VVxhrbS2wQ7",
        "outputId": "3caa206e-74fa-4ec6-fdbe-d7103dc36134"
      },
      "execution_count": 7,
      "outputs": [
        {
          "output_type": "stream",
          "name": "stdout",
          "text": [
            "64\n"
          ]
        }
      ]
    },
    {
      "cell_type": "markdown",
      "source": [
        "# ★ **Input/Output handling:**\n",
        "Input: input() is uesd to take data from the user (always as a string).\n",
        "\n",
        "Output: print() is used to deisplay data on the screen."
      ],
      "metadata": {
        "id": "bEZnfG_x3CcS"
      }
    },
    {
      "cell_type": "code",
      "source": [
        "name = input(\"Enter your name: \")\n",
        "age = input(\"Enter your age: \")\n",
        "print(\"Hello\",name)\n",
        "print(\"Age\",int(age))"
      ],
      "metadata": {
        "colab": {
          "base_uri": "https://localhost:8080/"
        },
        "id": "ngf9_33K2-3N",
        "outputId": "bd9db759-c9b7-41ab-b0d6-6fe04ab7f3d5"
      },
      "execution_count": 8,
      "outputs": [
        {
          "output_type": "stream",
          "name": "stdout",
          "text": [
            "Enter your name: SAM\n",
            "Enter your age: 22\n",
            "Hello SAM\n",
            "Age 22\n"
          ]
        }
      ]
    },
    {
      "cell_type": "markdown",
      "source": [
        "# ★ TypeCasting:\n",
        "Typecasting means converting a value from one data type to another.\n",
        "\n",
        "| Function  | Converts To          | Example          | Result    |\n",
        "| --------- | -------------------- | ---------------- | --------- |\n",
        "| int()     | Integer              | int(\"10\")        | 10        |\n",
        "| float()   | Float                | float(5)         | 5.0       |\n",
        "| str()     | String               | str(15)          | \"15\"      |\n",
        "| bool()    | Boolean              | bool(0)          | False     |\n",
        "| list()    | List                 | list((1,2,3))    | [1, 2, 3] |\n",
        "| tuple()   | Tuple                | tuple([1,2,3])   | (1, 2, 3) |\n",
        "| set()     | Set                  | set([1,2,2,3])   | {1, 2, 3} |"
      ],
      "metadata": {
        "id": "n33FHcUc3MQ7"
      }
    },
    {
      "cell_type": "code",
      "source": [
        "x = int(\"10\")     # string to integer\n",
        "y = float(5)      # integer to float\n",
        "z = str(15)       # integer to string\n",
        "flag = bool(0)    # integer to boolean (0 → False)"
      ],
      "metadata": {
        "id": "hkk-bltJ3HkE"
      },
      "execution_count": 9,
      "outputs": []
    },
    {
      "cell_type": "code",
      "source": [],
      "metadata": {
        "id": "qrDHC7B03aTP"
      },
      "execution_count": null,
      "outputs": []
    }
  ]
}